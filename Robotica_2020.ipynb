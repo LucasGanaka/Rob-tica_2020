{
  "nbformat": 4,
  "nbformat_minor": 0,
  "metadata": {
    "colab": {
      "name": "Robotica_2020.ipynb",
      "provenance": [],
      "authorship_tag": "ABX9TyN61UAIKUdD9EJmX6fUuJp1",
      "include_colab_link": true
    },
    "kernelspec": {
      "name": "python3",
      "display_name": "Python 3"
    }
  },
  "cells": [
    {
      "cell_type": "markdown",
      "metadata": {
        "id": "view-in-github",
        "colab_type": "text"
      },
      "source": [
        "<a href=\"https://colab.research.google.com/github/LucasGanaka/Robotica_2020/blob/master/Robotica_2020.ipynb\" target=\"_parent\"><img src=\"https://colab.research.google.com/assets/colab-badge.svg\" alt=\"Open In Colab\"/></a>"
      ]
    },
    {
      "cell_type": "markdown",
      "metadata": {
        "id": "iFJRsE9je8ST",
        "colab_type": "text"
      },
      "source": [
        "Disciplina: Robótica "
      ]
    },
    {
      "cell_type": "markdown",
      "metadata": {
        "id": "fpxiNN1vfIIl",
        "colab_type": "text"
      },
      "source": [
        "# **Aula 2020_08_21**"
      ]
    },
    {
      "cell_type": "code",
      "metadata": {
        "id": "EVPcKOKGfU_A",
        "colab_type": "code",
        "colab": {
          "base_uri": "https://localhost:8080/",
          "height": 34
        },
        "outputId": "026b2bde-e4c0-4891-c28a-346f98a3b5e6"
      },
      "source": [
        "print (\"Hello World\")"
      ],
      "execution_count": 3,
      "outputs": [
        {
          "output_type": "stream",
          "text": [
            "Hello World\n"
          ],
          "name": "stdout"
        }
      ]
    }
  ]
}